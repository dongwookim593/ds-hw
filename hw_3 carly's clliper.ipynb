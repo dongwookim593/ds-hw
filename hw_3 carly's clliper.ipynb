{
 "cells": [
  {
   "cell_type": "code",
   "execution_count": 11,
   "id": "2dab30f8-b02e-4477-b77f-45760c28b2f1",
   "metadata": {},
   "outputs": [
    {
     "name": "stdout",
     "output_type": "stream",
     "text": [
      "Average Price: 31.875\n",
      "[25, 20, 35, 15, 15, 30, 45, 30]\n",
      "Average Daily Revenue 155.0\n",
      "['bouffant', 'pixie', 'crew', 'bowl']\n"
     ]
    }
   ],
   "source": [
    "hairstyles = [\"bouffant\", \"pixie\", \"dreadlocks\", \"crew\", \"bowl\", \"bob\", \"mohawk\", \"flattop\"]\n",
    "\n",
    "prices = [30, 25, 40, 20, 20, 35, 50, 35]\n",
    "\n",
    "last_week = [2, 3, 5, 8, 4, 4, 6, 2] #리스트 3개 작성\n",
    "\n",
    "total_price = 0\n",
    "\n",
    "total_revenue = 0 # 토탈이들 선언\n",
    "\n",
    "for price in prices:\n",
    "  total_price += price #총 가격에 값 입력\n",
    "\n",
    "average_price = total_price / len(prices)\n",
    "print(\"Average Price: \" + str(average_price)) #평균 가격 구하기\n",
    "\n",
    "new_prices = [price - 5 for price in prices]\n",
    "print(new_prices) #원래 값에서 5씩 빼기\n",
    "\n",
    "for i in range(len(hairstyles)):\n",
    "  total_revenue += prices[i] * last_week[i] #총 수입에 값 입력\n",
    "\n",
    "average_daily_revenue = total_revenue / 7\n",
    "print(\"Average Daily Revenue \" + str(average_daily_revenue)) #평균 하루수입 구하기\n",
    "\n",
    "#print(range(0, (len(hairstyles) - 1)))\n",
    "cuts_under_30 = [hairstyles[i] for i in range(0, (len(hairstyles) - 1)) if new_prices[i] < 30]\n",
    "\n",
    "print(cuts_under_30)# 가격이 30이하인 헤어스타일 "
   ]
  }
 ],
 "metadata": {
  "kernelspec": {
   "display_name": "Python 3 (ipykernel)",
   "language": "python",
   "name": "python3"
  },
  "language_info": {
   "codemirror_mode": {
    "name": "ipython",
    "version": 3
   },
   "file_extension": ".py",
   "mimetype": "text/x-python",
   "name": "python",
   "nbconvert_exporter": "python",
   "pygments_lexer": "ipython3",
   "version": "3.8.11"
  }
 },
 "nbformat": 4,
 "nbformat_minor": 5
}
